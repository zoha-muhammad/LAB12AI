{
 "cells": [
  {
   "cell_type": "code",
   "execution_count": 1,
   "id": "bcc47cb3-2fc4-47d4-8335-06d8a895f34e",
   "metadata": {},
   "outputs": [
    {
     "ename": "SyntaxError",
     "evalue": "invalid syntax (2092564769.py, line 1)",
     "output_type": "error",
     "traceback": [
      "\u001b[1;36m  Cell \u001b[1;32mIn[1], line 1\u001b[1;36m\u001b[0m\n\u001b[1;33m    def is_terminal_state(board): for row in board: if row[0] == row[1] == row[2] and row[0] != '': return True\u001b[0m\n\u001b[1;37m                                  ^\u001b[0m\n\u001b[1;31mSyntaxError\u001b[0m\u001b[1;31m:\u001b[0m invalid syntax\n"
     ]
    }
   ],
   "source": [
    "def is_terminal_state(board): for row in board: if row[0] == row[1] == row[2] and row[0] != '': return True\n",
    "for col in range(3):\n",
    "    if board[0][col] == board[1][col] == board[2][col] and board[0][col] != '':\n",
    "        return True\n",
    "if board[0][0] == board[1][1] == board[2][2] and board[0][0] != '':\n",
    "    return True\n",
    "if board[0][2] == board[1][1] == board[2][0] and board[0][2] != '':\n",
    "    return True\n",
    "\n",
    "for row in board:\n",
    "    if '' in row:\n",
    "        return False \n",
    "return True  \n",
    "def evaluate_board(board): for row in board: if row[0] == row[1] == row[2]: if row[0] == 'X': return 10 elif row[0] == 'O': return -10\n",
    "for col in range(3):\n",
    "    if board[0][col] == board[1][col] == board[2][col]:\n",
    "        if board[0][col] == 'X':\n",
    "            return 10\n",
    "        elif board[0][col] == 'O':\n",
    "            return -10\n",
    "\n",
    "if board[0][0] == board[1][1] == board[2][2]:\n",
    "    if board[0][0] == 'X':\n",
    "        return 10\n",
    "    elif board[0][0] == 'O':\n",
    "        return -10\n",
    "if board[0][2] == board[1][1] == board[2][0]:\n",
    "    if board[0][2] == 'X':\n",
    "        return 10\n",
    "    elif board[0][2] == 'O':\n",
    "        return -10\n",
    "\n",
    "return 0  \n",
    " \n",
    "def get_all_moves(board, is_maximizing_player): moves = [] symbol = 'X' if is_maximizing_player else 'O' for i in range(3): for j in range(3): if board[i][j] == '': new_board = [row[:] for row in board] new_board[i][j] = symbol moves.append((new_board, (i, j))) return moves\n",
    "def minimax(board, depth, is_maximizing_player): if is_terminal_state(board): return evaluate_board(board)\n",
    "if is_maximizing_player:\n",
    "    best_val = float('-inf')\n",
    "    for move, _ in get_all_moves(board, True):\n",
    "        value = minimax(move, depth + 1, False)\n",
    "        best_val = max(best_val, value)\n",
    "    return best_val\n",
    "else:\n",
    "    best_val = float('inf')\n",
    "    for move, _ in get_all_moves(board, False):\n",
    "        value = minimax(move, depth + 1, True)\n",
    "        best_val = min(best_val, value)\n",
    "    return best_val\n",
    " \n",
    "def find_best_move(board): best_val = float('-inf') best_move = None for move, position in get_all_moves(board, True): move_val = minimax(move, 0, False) if move_val > best_val: best_val = move_val best_move = position return best_move\n",
    "def print_board(board): for row in board: print(row) print()\n",
    "board = [ ['', '', ''], ['', '', ''], ['', '', ''] ]\n",
    "print(\"Initial Board:\") print_board(board)\n",
    "for _ in range(5):\n",
    " best_move = find_best_move(board) print(f\"\\nBest Move for 'X': {best_move}\") board[best_move[0]][best_move[1]] = 'X' print(\"Board After Move:\") print_board(board)\n",
    "if is_terminal_state(board):\n",
    "    print(\"Game Over!\")\n",
    "    break\n",
    "best_move_o = find_best_move(board)\n",
    "print(f\"Best Move for 'O': {best_move_o}\")\n",
    "board[best_move_o[0]][best_move_o[1]] = 'O'\n",
    "print(\"Board After Move:\")\n",
    "print_board(board)\n",
    "\n",
    "if is_terminal_state(board):\n",
    "    print(\"Game Over!\")\n",
    "    break\n"
   ]
  },
  {
   "cell_type": "code",
   "execution_count": null,
   "id": "6d03bcac-fc3e-4fde-bf56-386832ffe715",
   "metadata": {},
   "outputs": [],
   "source": []
  }
 ],
 "metadata": {
  "kernelspec": {
   "display_name": "Python 3 (ipykernel)",
   "language": "python",
   "name": "python3"
  },
  "language_info": {
   "codemirror_mode": {
    "name": "ipython",
    "version": 3
   },
   "file_extension": ".py",
   "mimetype": "text/x-python",
   "name": "python",
   "nbconvert_exporter": "python",
   "pygments_lexer": "ipython3",
   "version": "3.12.3"
  }
 },
 "nbformat": 4,
 "nbformat_minor": 5
}
