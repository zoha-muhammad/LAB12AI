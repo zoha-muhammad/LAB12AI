{
 "cells": [
  {
   "cell_type": "code",
   "execution_count": null,
   "id": "bcc47cb3-2fc4-47d4-8335-06d8a895f34e",
   "metadata": {},
   "outputs": [],
   "source": []
  }
 ],
 "metadata": {
  "kernelspec": {
   "display_name": "",
   "name": ""
  },
  "language_info": {
   "name": ""
  }
 },
 "nbformat": 4,
 "nbformat_minor": 5
}
